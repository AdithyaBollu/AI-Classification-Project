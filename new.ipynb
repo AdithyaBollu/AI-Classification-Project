{
 "cells": [
  {
   "cell_type": "code",
   "execution_count": 60,
   "metadata": {},
   "outputs": [],
   "source": [
    "\n",
    "\n",
    "import math\n",
    "\n",
    "class DataPoint2d:\n",
    "    # Create a DataPoint at this spot.\n",
    "    def __init__(self, x, y, name):\n",
    "        self.name = name\n",
    "        self.x = x\n",
    "        self.y = y\n",
    "\n",
    "    \n",
    "    def distance(self, other):\n",
    "        dist = math.sqrt((other.x- self.x)**2 + (other.y- self.y)**2)\n",
    "        return dist\n",
    "    \n",
    "    # Use K nearest neighbors to set the data point's name.\n",
    "    def knn(self, data_points, k):\n",
    "        sorted_data = sorted(data_points, key=lambda x: self.distance(x))\n",
    "        votes = {}\n",
    "        num_votes = 0\n",
    "\n",
    "        for point in sorted_data:\n",
    "            if num_votes == k:\n",
    "                break\n",
    "            if point.name not in votes:\n",
    "                votes[point.name] = 1\n",
    "            else:\n",
    "                votes[point.name] += 1\n",
    "            num_votes += 1\n",
    "        \n",
    "        print(votes)\n",
    "        new_name = sorted(votes, key=lambda x: votes[x], reverse=True )[0]\n",
    "        self.name = new_name\n",
    "        \n",
    "\n",
    "    # Draw the data point.\n",
    "    def create_oval(self, canvas, bg_color):\n",
    "        radius = 8\n",
    "        canvas.create_oval(\n",
    "            self.x - radius, self.y - radius,\n",
    "            self.x + radius, self.y + radius,\n",
    "            fill=bg_color)\n",
    "        canvas.create_text(self.x, self.y, text=self.name)\n",
    "\n",
    "\n"
   ]
  },
  {
   "cell_type": "code",
   "execution_count": 83,
   "metadata": {},
   "outputs": [
    {
     "name": "stdout",
     "output_type": "stream",
     "text": [
      "{'B': 6, 'A': 8, 'C': 6}\n",
      "None\n",
      "A\n"
     ]
    }
   ],
   "source": [
    "import random\n",
    "\n",
    "p1 = DataPoint2d(3,4, \"?\")\n",
    "\n",
    "keys = [\"A\", \"B\", \"C\"]\n",
    "points = []\n",
    "\n",
    "for i in range(100):\n",
    "    index= random.randint(0, len(keys)-1)\n",
    "    x = random.randint(1, 10)\n",
    "    y = random.randint(1, 10)\n",
    "    points.append(DataPoint2d(x,y, keys[index]))\n",
    "\n",
    "\n",
    "\n",
    "print(p1.knn(points, 20))\n",
    "print(p1.name)"
   ]
  },
  {
   "cell_type": "code",
   "execution_count": null,
   "metadata": {},
   "outputs": [],
   "source": []
  },
  {
   "cell_type": "code",
   "execution_count": null,
   "metadata": {},
   "outputs": [],
   "source": []
  }
 ],
 "metadata": {
  "kernelspec": {
   "display_name": "Python 3",
   "language": "python",
   "name": "python3"
  },
  "language_info": {
   "codemirror_mode": {
    "name": "ipython",
    "version": 3
   },
   "file_extension": ".py",
   "mimetype": "text/x-python",
   "name": "python",
   "nbconvert_exporter": "python",
   "pygments_lexer": "ipython3",
   "version": "3.12.1"
  }
 },
 "nbformat": 4,
 "nbformat_minor": 2
}
